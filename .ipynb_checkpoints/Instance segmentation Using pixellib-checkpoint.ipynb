{
 "cells": [
  {
   "cell_type": "code",
   "execution_count": 1,
   "id": "629cffb6",
   "metadata": {},
   "outputs": [
    {
     "name": "stdout",
     "output_type": "stream",
     "text": [
      "Python 3.9.6\n"
     ]
    }
   ],
   "source": [
    "!python -V"
   ]
  },
  {
   "cell_type": "code",
   "execution_count": 2,
   "id": "503823f6",
   "metadata": {},
   "outputs": [
    {
     "name": "stdout",
     "output_type": "stream",
     "text": [
      "Collecting pixellib"
     ]
    },
    {
     "name": "stderr",
     "output_type": "stream",
     "text": [
      "WARNING: Ignoring invalid distribution -treamlit (c:\\users\\azam\\appdata\\local\\programs\\python\\python39\\lib\\site-packages)\n",
      "WARNING: Ignoring invalid distribution -treamlit (c:\\users\\azam\\appdata\\local\\programs\\python\\python39\\lib\\site-packages)\n"
     ]
    },
    {
     "name": "stdout",
     "output_type": "stream",
     "text": [
      "\n",
      "  Downloading pixellib-0.7.1-py3-none-any.whl (430 kB)\n",
      "     -------------------------------------- 430.3/430.3 kB 2.1 MB/s eta 0:00:00\n",
      "Requirement already satisfied: pillow in c:\\users\\azam\\appdata\\local\\programs\\python\\python39\\lib\\site-packages (from pixellib) (9.5.0)\n",
      "Requirement already satisfied: scikit-image in c:\\users\\azam\\appdata\\local\\programs\\python\\python39\\lib\\site-packages (from pixellib) (0.21.0)\n",
      "Requirement already satisfied: opencv-python in c:\\users\\azam\\appdata\\local\\programs\\python\\python39\\lib\\site-packages (from pixellib) (4.6.0.66)\n",
      "Requirement already satisfied: matplotlib in c:\\users\\azam\\appdata\\local\\programs\\python\\python39\\lib\\site-packages (from pixellib) (3.5.1)\n",
      "Collecting imgaug (from pixellib)\n",
      "  Downloading imgaug-0.4.0-py2.py3-none-any.whl (948 kB)\n",
      "     -------------------------------------- 948.0/948.0 kB 8.5 MB/s eta 0:00:00\n",
      "Collecting labelme2coco (from pixellib)\n",
      "  Downloading labelme2coco-0.2.4-py3-none-any.whl (19 kB)\n",
      "Collecting imantics (from pixellib)\n",
      "  Downloading imantics-0.1.12.tar.gz (13 kB)\n",
      "  Preparing metadata (setup.py): started\n",
      "  Preparing metadata (setup.py): finished with status 'done'\n",
      "Requirement already satisfied: Cython in c:\\users\\azam\\appdata\\local\\programs\\python\\python39\\lib\\site-packages (from pixellib) (0.29.35)\n",
      "Requirement already satisfied: pyQt5 in c:\\users\\azam\\appdata\\local\\programs\\python\\python39\\lib\\site-packages (from pixellib) (5.15.9)\n",
      "Collecting fvcore (from pixellib)\n",
      "  Downloading fvcore-0.1.5.post20221221.tar.gz (50 kB)\n",
      "     ---------------------------------------- 50.2/50.2 kB ? eta 0:00:00\n",
      "  Preparing metadata (setup.py): started\n",
      "  Preparing metadata (setup.py): finished with status 'done'\n",
      "Collecting iopath (from pixellib)\n",
      "  Downloading iopath-0.1.10.tar.gz (42 kB)\n",
      "     ---------------------------------------- 42.2/42.2 kB ? eta 0:00:00\n",
      "  Preparing metadata (setup.py): started\n",
      "  Preparing metadata (setup.py): finished with status 'done'\n",
      "Collecting omegaconf (from pixellib)\n",
      "  Downloading omegaconf-2.3.0-py3-none-any.whl (79 kB)\n",
      "     ---------------------------------------- 79.5/79.5 kB 4.3 MB/s eta 0:00:00\n",
      "Requirement already satisfied: cloudpickle in c:\\users\\azam\\appdata\\local\\programs\\python\\python39\\lib\\site-packages (from pixellib) (2.1.0)\n",
      "Requirement already satisfied: termcolor in c:\\users\\azam\\appdata\\local\\programs\\python\\python39\\lib\\site-packages (from pixellib) (1.1.0)\n",
      "Collecting yacs (from pixellib)\n",
      "  Downloading yacs-0.1.8-py3-none-any.whl (14 kB)\n",
      "Collecting tabulate (from pixellib)\n",
      "  Downloading tabulate-0.9.0-py3-none-any.whl (35 kB)\n",
      "Requirement already satisfied: tqdm in c:\\users\\azam\\appdata\\local\\programs\\python\\python39\\lib\\site-packages (from pixellib) (4.64.0)\n",
      "Collecting future (from pixellib)\n",
      "  Downloading future-0.18.3.tar.gz (840 kB)\n",
      "     ------------------------------------- 840.9/840.9 kB 13.2 MB/s eta 0:00:00\n",
      "  Preparing metadata (setup.py): started\n",
      "  Preparing metadata (setup.py): finished with status 'done'\n",
      "Requirement already satisfied: pydot in c:\\users\\azam\\appdata\\local\\programs\\python\\python39\\lib\\site-packages (from pixellib) (1.4.2)\n",
      "Collecting dataclasses (from pixellib)\n",
      "  Downloading dataclasses-0.6-py3-none-any.whl (14 kB)\n",
      "Collecting hydra-core (from pixellib)\n",
      "  Downloading hydra_core-1.3.2-py3-none-any.whl (154 kB)\n",
      "     -------------------------------------- 154.5/154.5 kB 9.0 MB/s eta 0:00:00\n",
      "Collecting black (from pixellib)\n",
      "  Downloading black-23.3.0-cp39-cp39-win_amd64.whl (1.3 MB)\n",
      "     ---------------------------------------- 1.3/1.3 MB 5.5 MB/s eta 0:00:00\n",
      "Requirement already satisfied: click>=8.0.0 in c:\\users\\azam\\appdata\\local\\programs\\python\\python39\\lib\\site-packages (from black->pixellib) (8.1.3)\n",
      "Collecting mypy-extensions>=0.4.3 (from black->pixellib)\n",
      "  Downloading mypy_extensions-1.0.0-py3-none-any.whl (4.7 kB)\n",
      "Requirement already satisfied: packaging>=22.0 in c:\\users\\azam\\appdata\\local\\programs\\python\\python39\\lib\\site-packages (from black->pixellib) (22.0)\n",
      "Collecting pathspec>=0.9.0 (from black->pixellib)\n",
      "  Downloading pathspec-0.11.1-py3-none-any.whl (29 kB)\n",
      "Requirement already satisfied: platformdirs>=2 in c:\\users\\azam\\appdata\\local\\programs\\python\\python39\\lib\\site-packages (from black->pixellib) (2.5.2)\n",
      "Collecting tomli>=1.1.0 (from black->pixellib)\n",
      "  Downloading tomli-2.0.1-py3-none-any.whl (12 kB)\n",
      "Requirement already satisfied: typing-extensions>=3.10.0.0 in c:\\users\\azam\\appdata\\local\\programs\\python\\python39\\lib\\site-packages (from black->pixellib) (4.3.0)\n",
      "Requirement already satisfied: numpy in c:\\users\\azam\\appdata\\local\\programs\\python\\python39\\lib\\site-packages (from fvcore->pixellib) (1.22.4)\n",
      "Requirement already satisfied: pyyaml>=5.1 in c:\\users\\azam\\appdata\\local\\programs\\python\\python39\\lib\\site-packages (from fvcore->pixellib) (6.0)\n",
      "Collecting portalocker (from iopath->pixellib)\n",
      "  Downloading portalocker-2.7.0-py2.py3-none-any.whl (15 kB)\n",
      "Collecting antlr4-python3-runtime==4.9.* (from hydra-core->pixellib)\n",
      "  Downloading antlr4-python3-runtime-4.9.3.tar.gz (117 kB)\n",
      "     -------------------------------------- 117.0/117.0 kB 6.7 MB/s eta 0:00:00\n",
      "  Preparing metadata (setup.py): started\n",
      "  Preparing metadata (setup.py): finished with status 'done'\n",
      "Requirement already satisfied: lxml in c:\\users\\azam\\appdata\\local\\programs\\python\\python39\\lib\\site-packages (from imantics->pixellib) (4.9.2)\n",
      "Collecting xmljson (from imantics->pixellib)\n",
      "  Downloading xmljson-0.2.1-py2.py3-none-any.whl (10 kB)\n",
      "Requirement already satisfied: six in c:\\users\\azam\\appdata\\local\\programs\\python\\python39\\lib\\site-packages (from imgaug->pixellib) (1.16.0)\n",
      "Requirement already satisfied: scipy in c:\\users\\azam\\appdata\\local\\programs\\python\\python39\\lib\\site-packages (from imgaug->pixellib) (1.10.1)\n",
      "Requirement already satisfied: imageio in c:\\users\\azam\\appdata\\local\\programs\\python\\python39\\lib\\site-packages (from imgaug->pixellib) (2.31.1)\n",
      "Collecting Shapely (from imgaug->pixellib)\n",
      "  Downloading shapely-2.0.1-cp39-cp39-win_amd64.whl (1.4 MB)\n",
      "     ---------------------------------------- 1.4/1.4 MB 8.7 MB/s eta 0:00:00\n",
      "Requirement already satisfied: networkx>=2.8 in c:\\users\\azam\\appdata\\local\\programs\\python\\python39\\lib\\site-packages (from scikit-image->pixellib) (2.8.8)\n",
      "Requirement already satisfied: tifffile>=2022.8.12 in c:\\users\\azam\\appdata\\local\\programs\\python\\python39\\lib\\site-packages (from scikit-image->pixellib) (2023.4.12)\n",
      "Requirement already satisfied: PyWavelets>=1.1.1 in c:\\users\\azam\\appdata\\local\\programs\\python\\python39\\lib\\site-packages (from scikit-image->pixellib) (1.4.1)\n",
      "Requirement already satisfied: lazy_loader>=0.2 in c:\\users\\azam\\appdata\\local\\programs\\python\\python39\\lib\\site-packages (from scikit-image->pixellib) (0.2)\n",
      "Collecting sahi>=0.8.19 (from labelme2coco->pixellib)\n",
      "  Downloading sahi-0.11.14-py3-none-any.whl (104 kB)\n",
      "     -------------------------------------- 104.0/104.0 kB 5.9 MB/s eta 0:00:00\n",
      "Requirement already satisfied: jsonschema>=2.6.0 in c:\\users\\azam\\appdata\\local\\programs\\python\\python39\\lib\\site-packages (from labelme2coco->pixellib) (3.2.0)\n",
      "Requirement already satisfied: cycler>=0.10 in c:\\users\\azam\\appdata\\local\\programs\\python\\python39\\lib\\site-packages (from matplotlib->pixellib) (0.11.0)\n",
      "Requirement already satisfied: fonttools>=4.22.0 in c:\\users\\azam\\appdata\\local\\programs\\python\\python39\\lib\\site-packages (from matplotlib->pixellib) (4.28.5)\n",
      "Requirement already satisfied: kiwisolver>=1.0.1 in c:\\users\\azam\\appdata\\local\\programs\\python\\python39\\lib\\site-packages (from matplotlib->pixellib) (1.3.2)\n",
      "Requirement already satisfied: pyparsing>=2.2.1 in c:\\users\\azam\\appdata\\local\\programs\\python\\python39\\lib\\site-packages (from matplotlib->pixellib) (2.4.7)\n",
      "Requirement already satisfied: python-dateutil>=2.7 in c:\\users\\azam\\appdata\\local\\programs\\python\\python39\\lib\\site-packages (from matplotlib->pixellib) (2.7.5)\n",
      "Requirement already satisfied: PyQt5-sip<13,>=12.11 in c:\\users\\azam\\appdata\\local\\programs\\python\\python39\\lib\\site-packages (from pyQt5->pixellib) (12.11.0)\n",
      "Requirement already satisfied: PyQt5-Qt5>=5.15.2 in c:\\users\\azam\\appdata\\local\\programs\\python\\python39\\lib\\site-packages (from pyQt5->pixellib) (5.15.2)\n",
      "Requirement already satisfied: colorama in c:\\users\\azam\\appdata\\local\\programs\\python\\python39\\lib\\site-packages (from tqdm->pixellib) (0.4.4)\n",
      "Requirement already satisfied: attrs>=17.4.0 in c:\\users\\azam\\appdata\\local\\programs\\python\\python39\\lib\\site-packages (from jsonschema>=2.6.0->labelme2coco->pixellib) (22.2.0)\n",
      "Requirement already satisfied: pyrsistent>=0.14.0 in c:\\users\\azam\\appdata\\local\\programs\\python\\python39\\lib\\site-packages (from jsonschema>=2.6.0->labelme2coco->pixellib) (0.18.0)\n",
      "Requirement already satisfied: setuptools in c:\\users\\azam\\appdata\\local\\programs\\python\\python39\\lib\\site-packages (from jsonschema>=2.6.0->labelme2coco->pixellib) (65.6.3)\n",
      "Collecting pybboxes==0.1.6 (from sahi>=0.8.19->labelme2coco->pixellib)\n",
      "  Downloading pybboxes-0.1.6-py3-none-any.whl (24 kB)\n",
      "Collecting fire (from sahi>=0.8.19->labelme2coco->pixellib)\n",
      "  Downloading fire-0.5.0.tar.gz (88 kB)\n",
      "     ---------------------------------------- 88.3/88.3 kB 5.2 MB/s eta 0:00:00\n",
      "  Preparing metadata (setup.py): started\n",
      "  Preparing metadata (setup.py): finished with status 'done'\n",
      "Collecting terminaltables (from sahi>=0.8.19->labelme2coco->pixellib)\n",
      "  Downloading terminaltables-3.1.10-py2.py3-none-any.whl (15 kB)\n",
      "Requirement already satisfied: requests in c:\\users\\azam\\appdata\\local\\programs\\python\\python39\\lib\\site-packages (from sahi>=0.8.19->labelme2coco->pixellib) (2.31.0)\n",
      "Requirement already satisfied: pywin32>=226 in c:\\users\\azam\\appdata\\local\\programs\\python\\python39\\lib\\site-packages (from portalocker->iopath->pixellib) (301)\n",
      "Requirement already satisfied: charset-normalizer<4,>=2 in c:\\users\\azam\\appdata\\local\\programs\\python\\python39\\lib\\site-packages (from requests->sahi>=0.8.19->labelme2coco->pixellib) (2.0.3)\n",
      "Requirement already satisfied: idna<4,>=2.5 in c:\\users\\azam\\appdata\\local\\programs\\python\\python39\\lib\\site-packages (from requests->sahi>=0.8.19->labelme2coco->pixellib) (3.2)\n",
      "Requirement already satisfied: urllib3<3,>=1.21.1 in c:\\users\\azam\\appdata\\local\\programs\\python\\python39\\lib\\site-packages (from requests->sahi>=0.8.19->labelme2coco->pixellib) (1.26.6)\n",
      "Requirement already satisfied: certifi>=2017.4.17 in c:\\users\\azam\\appdata\\local\\programs\\python\\python39\\lib\\site-packages (from requests->sahi>=0.8.19->labelme2coco->pixellib) (2022.12.7)\n",
      "Building wheels for collected packages: future, fvcore, iopath, antlr4-python3-runtime, imantics, fire\n",
      "  Building wheel for future (setup.py): started\n",
      "  Building wheel for future (setup.py): finished with status 'done'\n",
      "  Created wheel for future: filename=future-0.18.3-py3-none-any.whl size=492055 sha256=e6c606b9d6da748570265217d62ebde82cca3059730ebcbf916e02ad27c0281a\n",
      "  Stored in directory: c:\\users\\azam\\appdata\\local\\pip\\cache\\wheels\\bf\\5d\\6a\\2e53874f7ec4e2bede522385439531fafec8fafe005b5c3d1b\n",
      "  Building wheel for fvcore (setup.py): started\n",
      "  Building wheel for fvcore (setup.py): finished with status 'done'\n",
      "  Created wheel for fvcore: filename=fvcore-0.1.5.post20221221-py3-none-any.whl size=61417 sha256=e18ed8719206f605ce128bf06fcc470ac67ce8817fb58e000f6da221a624c28e\n",
      "  Stored in directory: c:\\users\\azam\\appdata\\local\\pip\\cache\\wheels\\83\\42\\02\\66178d16e5c44dc26d309931834956baeda371956e86fbd876\n",
      "  Building wheel for iopath (setup.py): started\n",
      "  Building wheel for iopath (setup.py): finished with status 'done'\n",
      "  Created wheel for iopath: filename=iopath-0.1.10-py3-none-any.whl size=31542 sha256=182e32efebf2a09d29a4609d5bec3b8335e4d549dd6b6be7bf6c4fd449b2884e\n",
      "  Stored in directory: c:\\users\\azam\\appdata\\local\\pip\\cache\\wheels\\c1\\13\\6d\\441d8f2af76ee6d2a3e67eebb1d0c556fefcee0a8b32266a8e\n",
      "  Building wheel for antlr4-python3-runtime (setup.py): started\n",
      "  Building wheel for antlr4-python3-runtime (setup.py): finished with status 'done'\n",
      "  Created wheel for antlr4-python3-runtime: filename=antlr4_python3_runtime-4.9.3-py3-none-any.whl size=144578 sha256=c3217228ce9ff39c3027ca5b629dacc25819ebb0f1497ee366e928e421690b24\n",
      "  Stored in directory: c:\\users\\azam\\appdata\\local\\pip\\cache\\wheels\\23\\cf\\80\\f3efa822e6ab23277902ee9165fe772eeb1dfb8014f359020a\n",
      "  Building wheel for imantics (setup.py): started\n",
      "  Building wheel for imantics (setup.py): finished with status 'done'\n",
      "  Created wheel for imantics: filename=imantics-0.1.12-py3-none-any.whl size=16031 sha256=016a5fc0a4e172a31fc1a066c8a2d4f4daa7ac6d5cb98ff2fd95b1561b5ce745\n",
      "  Stored in directory: c:\\users\\azam\\appdata\\local\\pip\\cache\\wheels\\45\\65\\ec\\8f8f231fa40bc5d47798df399f65aea84d2e3a0ea296f81506\n",
      "  Building wheel for fire (setup.py): started\n",
      "  Building wheel for fire (setup.py): finished with status 'done'\n",
      "  Created wheel for fire: filename=fire-0.5.0-py2.py3-none-any.whl size=116947 sha256=127015e7cdd6edfcb85f27117c36b62a61b37f232840dbafc8f42cabdf4050c2\n",
      "  Stored in directory: c:\\users\\azam\\appdata\\local\\pip\\cache\\wheels\\f7\\f1\\89\\b9ea2bf8f80ec027a88fef1d354b3816b4d3d29530988972f6\n",
      "Successfully built future fvcore iopath antlr4-python3-runtime imantics fire\n",
      "Installing collected packages: xmljson, dataclasses, antlr4-python3-runtime, yacs, tomli, terminaltables, tabulate, Shapely, pybboxes, portalocker, pathspec, omegaconf, mypy-extensions, future, fire, sahi, iopath, imantics, hydra-core, black, labelme2coco, imgaug, fvcore, pixellib\n",
      "Successfully installed Shapely-2.0.1 antlr4-python3-runtime-4.9.3 black-23.3.0 dataclasses-0.6 fire-0.5.0 future-0.18.3 fvcore-0.1.5.post20221221 hydra-core-1.3.2 imantics-0.1.12 imgaug-0.4.0 iopath-0.1.10 labelme2coco-0.2.4 mypy-extensions-1.0.0 omegaconf-2.3.0 pathspec-0.11.1 pixellib-0.7.1 portalocker-2.7.0 pybboxes-0.1.6 sahi-0.11.14 tabulate-0.9.0 terminaltables-3.1.10 tomli-2.0.1 xmljson-0.2.1 yacs-0.1.8\n"
     ]
    }
   ],
   "source": [
    "!pip install pixellib"
   ]
  },
  {
   "cell_type": "code",
   "execution_count": 3,
   "id": "8d39849f",
   "metadata": {},
   "outputs": [],
   "source": [
    "import pixellib\n",
    "from pixellib.instance import instance_segmentation\n",
    "import cv2"
   ]
  },
  {
   "cell_type": "markdown",
   "id": "633a4d29",
   "metadata": {},
   "source": [
    "## Download the .h5 model from: https://github.com/matterport/Mask_RCNN/releases/tag/v2.0"
   ]
  },
  {
   "cell_type": "code",
   "execution_count": 6,
   "id": "aa97aee3",
   "metadata": {},
   "outputs": [],
   "source": [
    "segmentation_model = instance_segmentation()\n",
    "segmentation_model.load_model('mask_rcnn_coco.h5')"
   ]
  },
  {
   "cell_type": "code",
   "execution_count": 8,
   "id": "fd51034d",
   "metadata": {},
   "outputs": [],
   "source": [
    "import time"
   ]
  },
  {
   "cell_type": "code",
   "execution_count": 9,
   "id": "2ef87ffd",
   "metadata": {},
   "outputs": [],
   "source": [
    "cap = cv2.VideoCapture(0)\n",
    "while cap.isOpened():\n",
    "    ret, frame = cap.read()\n",
    "    \n",
    "    # Apply instance segmentation\n",
    "    res = segmentation_model.segmentFrame(frame, show_bboxes=True)\n",
    "    image = res[1]\n",
    "    \n",
    "    cv2.imshow('Instance Segmentation', image)\n",
    "    \n",
    "    if cv2.waitKey(10) & 0xFF == ord('q'):\n",
    "        break\n",
    "        \n",
    "        \n",
    "cap.release()\n",
    "cv2.destroyAllWindows()"
   ]
  },
  {
   "cell_type": "code",
   "execution_count": null,
   "id": "9d9a1623",
   "metadata": {},
   "outputs": [],
   "source": []
  }
 ],
 "metadata": {
  "kernelspec": {
   "display_name": "Python 3 (ipykernel)",
   "language": "python",
   "name": "python3"
  },
  "language_info": {
   "codemirror_mode": {
    "name": "ipython",
    "version": 3
   },
   "file_extension": ".py",
   "mimetype": "text/x-python",
   "name": "python",
   "nbconvert_exporter": "python",
   "pygments_lexer": "ipython3",
   "version": "3.9.6"
  }
 },
 "nbformat": 4,
 "nbformat_minor": 5
}
